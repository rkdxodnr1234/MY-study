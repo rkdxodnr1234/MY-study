{
  "nbformat": 4,
  "nbformat_minor": 0,
  "metadata": {
    "colab": {
      "provenance": [],
      "authorship_tag": "ABX9TyOzn27fG0v8sy6OOtRa+RA9",
      "include_colab_link": true
    },
    "kernelspec": {
      "name": "python3",
      "display_name": "Python 3"
    },
    "language_info": {
      "name": "python"
    }
  },
  "cells": [
    {
      "cell_type": "markdown",
      "metadata": {
        "id": "view-in-github",
        "colab_type": "text"
      },
      "source": [
        "<a href=\"https://colab.research.google.com/github/rkdxodnr1234/MY-study/blob/main/Untitled15.ipynb\" target=\"_parent\"><img src=\"https://colab.research.google.com/assets/colab-badge.svg\" alt=\"Open In Colab\"/></a>"
      ]
    },
    {
      "cell_type": "code",
      "execution_count": null,
      "metadata": {
        "id": "NWD0fsB95bsZ"
      },
      "outputs": [],
      "source": [
        "import os\n",
        "import cv2\n",
        "import json\n",
        "import matplotlib.pyplot as plt\n",
        "\n",
        "# 경로 폴더 설정 (이미지 파일과 라벨링 파일이 있는 경로)\n",
        "folder_path = '/content/sample_data'  # 경로 폴더를 본인의 폴더 경로로 변경해주세요.\n",
        "\n",
        "# 라벨링 파일 경로\n",
        "label_file_path = os.path.join(folder_path, 'labels.json')\n",
        "\n",
        "# 라벨링 파일 읽기\n",
        "with open(label_file_path, 'r') as f:\n",
        "    labels_data = json.load(f)\n",
        "\n",
        "# 이미지 파일과 라벨을 함께 표시하는 함수 정의\n",
        "def display_images_with_labels(folder_path, labels_data):\n",
        "    for image_filename, label in labels_data.items():\n",
        "        # 이미지 파일 경로\n",
        "        image_path = os.path.join(folder_path, image_filename)\n",
        "\n",
        "        # 이미지 파일이 존재하는 경우에만 처리\n",
        "        if os.path.exists(image_path):\n",
        "            # 이미지 불러오기\n",
        "            image = cv2.imread(image_path)\n",
        "            image = cv2.cvtColor(image, cv2.COLOR_BGR2RGB)  # OpenCV는 BGR 순서이므로 RGB 순서로 변경\n",
        "\n",
        "            # 이미지와 라벨 표시\n",
        "            plt.figure(figsize=(8, 8))\n",
        "            plt.imshow(image)\n",
        "            plt.title(f\"Label: {label}\")\n",
        "            plt.axis('off')\n",
        "            plt.show()\n",
        "        else:\n",
        "            print(f\"Warning: Image file {image_filename} not found.\")\n",
        "\n",
        "# 이미지와 라벨 함께 표시\n",
        "display_images_with_labels(folder_path, labels_data)\n"
      ]
    }
  ]
}