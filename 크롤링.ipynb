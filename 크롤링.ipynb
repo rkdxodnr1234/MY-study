{
 "cells": [
  {
   "cell_type": "code",
   "execution_count": 1,
   "metadata": {},
   "outputs": [
    {
     "name": "stdout",
     "output_type": "stream",
     "text": [
      "Requirement already satisfied: requests in c:\\users\\win\\.conda\\envs\\test2\\lib\\site-packages (2.32.3)\n",
      "Collecting beautifulsoup4\n",
      "  Downloading beautifulsoup4-4.12.3-py3-none-any.whl.metadata (3.8 kB)\n",
      "Requirement already satisfied: charset-normalizer<4,>=2 in c:\\users\\win\\.conda\\envs\\test2\\lib\\site-packages (from requests) (3.3.2)\n",
      "Requirement already satisfied: idna<4,>=2.5 in c:\\users\\win\\.conda\\envs\\test2\\lib\\site-packages (from requests) (3.7)\n",
      "Requirement already satisfied: urllib3<3,>=1.21.1 in c:\\users\\win\\.conda\\envs\\test2\\lib\\site-packages (from requests) (2.2.2)\n",
      "Requirement already satisfied: certifi>=2017.4.17 in c:\\users\\win\\.conda\\envs\\test2\\lib\\site-packages (from requests) (2024.7.4)\n",
      "Collecting soupsieve>1.2 (from beautifulsoup4)\n",
      "  Downloading soupsieve-2.6-py3-none-any.whl.metadata (4.6 kB)\n",
      "Downloading beautifulsoup4-4.12.3-py3-none-any.whl (147 kB)\n",
      "   ---------------------------------------- 0.0/147.9 kB ? eta -:--:--\n",
      "   ---------- ---------------------------- 41.0/147.9 kB 991.0 kB/s eta 0:00:01\n",
      "   ---------------------------------------- 147.9/147.9 kB 2.2 MB/s eta 0:00:00\n",
      "Downloading soupsieve-2.6-py3-none-any.whl (36 kB)\n",
      "Installing collected packages: soupsieve, beautifulsoup4\n",
      "Successfully installed beautifulsoup4-4.12.3 soupsieve-2.6\n",
      "Note: you may need to restart the kernel to use updated packages.\n"
     ]
    }
   ],
   "source": [
    "pip install requests beautifulsoup4"
   ]
  },
  {
   "cell_type": "code",
   "execution_count": 2,
   "metadata": {},
   "outputs": [
    {
     "name": "stdout",
     "output_type": "stream",
     "text": [
      "이미지 크롤링 완료!\n"
     ]
    }
   ],
   "source": [
    "import requests\n",
    "from bs4 import BeautifulSoup\n",
    "import os\n",
    "\n",
    "# 저장할 폴더 생성\n",
    "if not os.path.exists('tomato_images'):\n",
    "    os.makedirs('tomato_images')\n",
    "\n",
    "# 검색할 URL (여기서는 예시로 구글 이미지 검색을 사용하지 않지만, 이미지 제공 사이트에서의 URL을 지정)\n",
    "url = 'https://example.com/search?q=tomato'\n",
    "\n",
    "# 웹 페이지 요청 및 파싱\n",
    "response = requests.get(url)\n",
    "soup = BeautifulSoup(response.text, 'html.parser')\n",
    "\n",
    "# 이미지 태그를 찾음 (img 태그와 src 속성으로 이미지 URL을 추출)\n",
    "images = soup.find_all('img')\n",
    "\n",
    "# 이미지 다운로드\n",
    "for i, img in enumerate(images):\n",
    "    img_url = img['src']\n",
    "    if img_url.startswith('http'):\n",
    "        img_data = requests.get(img_url).content\n",
    "        with open(f'tomato_images/tomato_{i}.jpg', 'wb') as handler:\n",
    "            handler.write(img_data)\n",
    "        print(f'Tomato image {i} downloaded')\n",
    "\n",
    "print(\"이미지 크롤링 완료!\")\n"
   ]
  }
 ],
 "metadata": {
  "kernelspec": {
   "display_name": "test2",
   "language": "python",
   "name": "python3"
  },
  "language_info": {
   "codemirror_mode": {
    "name": "ipython",
    "version": 3
   },
   "file_extension": ".py",
   "mimetype": "text/x-python",
   "name": "python",
   "nbconvert_exporter": "python",
   "pygments_lexer": "ipython3",
   "version": "3.8.19"
  }
 },
 "nbformat": 4,
 "nbformat_minor": 2
}
