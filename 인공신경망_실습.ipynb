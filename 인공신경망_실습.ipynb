{
  "nbformat": 4,
  "nbformat_minor": 0,
  "metadata": {
    "colab": {
      "provenance": [],
      "gpuType": "T4",
      "mount_file_id": "1fPY76qbgvc_I9ovPgo6v76A7uBC5jlFV",
      "authorship_tag": "ABX9TyNTNh/1jRvZekqcNefs+gMT",
      "include_colab_link": true
    },
    "kernelspec": {
      "name": "python3",
      "display_name": "Python 3"
    },
    "language_info": {
      "name": "python"
    },
    "accelerator": "GPU"
  },
  "cells": [
    {
      "cell_type": "markdown",
      "metadata": {
        "id": "view-in-github",
        "colab_type": "text"
      },
      "source": [
        "<a href=\"https://colab.research.google.com/github/rkdxodnr1234/MY-study/blob/main/%EC%9D%B8%EA%B3%B5%EC%8B%A0%EA%B2%BD%EB%A7%9D_%EC%8B%A4%EC%8A%B5.ipynb\" target=\"_parent\"><img src=\"https://colab.research.google.com/assets/colab-badge.svg\" alt=\"Open In Colab\"/></a>"
      ]
    },
    {
      "cell_type": "code",
      "source": [
        "from google.colab import drive\n",
        "drive.mount('/content/drive')"
      ],
      "metadata": {
        "colab": {
          "base_uri": "https://localhost:8080/"
        },
        "id": "VsHTwlS2Zqjn",
        "outputId": "5666f182-a6f5-4c5a-b11e-5688b53ab148"
      },
      "execution_count": 1,
      "outputs": [
        {
          "output_type": "stream",
          "name": "stdout",
          "text": [
            "Drive already mounted at /content/drive; to attempt to forcibly remount, call drive.mount(\"/content/drive\", force_remount=True).\n"
          ]
        }
      ]
    },
    {
      "cell_type": "code",
      "execution_count": 2,
      "metadata": {
        "id": "ZT8SDtZVv41l"
      },
      "outputs": [],
      "source": [
        "# 실행마다 동일한 결과를 얻기 위해 케라스에 랜덤 시드를 사용하고 텐서플로 연산을 결정적으로 만듭니다.\n",
        "import tensorflow as tf\n",
        "\n",
        "tf.keras.utils.set_random_seed(42)\n",
        "tf.config.experimental.enable_op_determinism()"
      ]
    },
    {
      "cell_type": "code",
      "source": [
        "import os\n",
        "from PIL import Image\n",
        "import numpy as np\n",
        "from sklearn.model_selection import train_test_split\n",
        "from tensorflow import keras\n",
        "import tensorflow as tf"
      ],
      "metadata": {
        "id": "6VHB0hzmj-Xr"
      },
      "execution_count": 3,
      "outputs": []
    },
    {
      "cell_type": "code",
      "execution_count": null,
      "metadata": {
        "id": "DMSfi2eyY45K"
      },
      "outputs": [],
      "source": [
        "# train 데이터와 동일한 폴더 경로\n",
        "train_folder_paths = [\n",
        "    '/content/drive/MyDrive/fruit/train/Apple Red 1',\n",
        "    '/content/drive/MyDrive/fruit/train/Banana',\n",
        "    '/content/drive/MyDrive/fruit/train/Lemon',\n",
        "    '/content/drive/MyDrive/fruit/train/Peach',\n",
        "    '/content/drive/MyDrive/fruit/train/Pear',\n",
        "    '/content/drive/MyDrive/fruit/train/Plum'\n",
        "]\n",
        "\n",
        "# test 데이터 폴더 경로\n",
        "test_folder_paths = [\n",
        "    '/content/drive/MyDrive/fruit/test/Apple Red 1',\n",
        "    '/content/drive/MyDrive/fruit/test/Banana',\n",
        "    '/content/drive/MyDrive/fruit/test/Lemon',\n",
        "    '/content/drive/MyDrive/fruit/test/Peach',\n",
        "    '/content/drive/MyDrive/fruit/test/Pear',\n",
        "    '/content/drive/MyDrive/fruit/test/Plum'\n",
        "]\n",
        "\n",
        "# 파일명을 가져오는 함수\n",
        "def get_filenames(folder_paths):\n",
        "    filenames = []\n",
        "    for folder_path in folder_paths:\n",
        "        for filename in os.listdir(folder_path):\n",
        "            if filename.endswith('.jpg'):\n",
        "                filenames.append(os.path.join(folder_path, filename))\n",
        "    return filenames\n",
        "\n",
        "# train 데이터 파일명을 가져옵니다.\n",
        "train_file_list = get_filenames(train_folder_paths)\n",
        "\n",
        "# test 데이터 파일명을 가져옵니다.\n",
        "test_file_list = get_filenames(test_folder_paths)\n",
        "\n",
        "# train 데이터를 처리하여 train_input과 train_target을 만듭니다.\n",
        "train_input = []\n",
        "train_target = []\n",
        "\n",
        "for file in train_file_list:\n",
        "    image = Image.open(file)\n",
        "    image = image.resize((28, 28))  # 이미지 크기를 조정\n",
        "    image_array = np.array(image) / 255.0  # 이미지를 0-1 범위로 스케일링\n",
        "    train_input.append(image_array)\n",
        "    target = file.split('/')[-2]\n",
        "    train_target.append(target)\n",
        "\n",
        "# test 데이터를 처리하여 test_input과 test_target을 만듭니다.\n",
        "test_input = []\n",
        "test_target = []\n",
        "\n",
        "for file in test_file_list:\n",
        "    image = Image.open(file)\n",
        "    image = image.resize((28, 28))  # 이미지 크기를 조정\n",
        "    image_array = np.array(image) / 255.0  # 이미지를 0-1 범위로 스케일링\n",
        "    test_input.append(image_array)\n",
        "    target = file.split('/')[-2]\n",
        "    test_target.append(target)\n"
      ]
    },
    {
      "cell_type": "code",
      "source": [
        "# train_input과 train_target, test_input과 test_target을 numpy 배열로 변환합니다.\n",
        "train_input = np.array(train_input)\n",
        "train_target = np.array(train_target)\n",
        "test_input = np.array(test_input)\n",
        "test_target = np.array(test_target)\n",
        "\n",
        "# 클래스 이름을 인덱스로 매핑하기 위한 딕셔너리 생성\n",
        "class_names = ['Apple Red 1', 'Banana', 'Lemon', 'Peach', 'Pear', 'Plum']\n",
        "class_dict = {class_name: idx for idx, class_name in enumerate(class_names)}\n",
        "\n",
        "# 타깃을 인덱스로 변환\n",
        "train_target = np.array([class_dict[target] for target in train_target])\n",
        "test_target = np.array([class_dict[target] for target in test_target])"
      ],
      "metadata": {
        "id": "nHEnx_IQlmYb"
      },
      "execution_count": null,
      "outputs": []
    },
    {
      "cell_type": "code",
      "source": [],
      "metadata": {
        "id": "jif-rHXd44jG"
      },
      "execution_count": null,
      "outputs": []
    },
    {
      "cell_type": "code",
      "source": [
        "# 데이터 크기 확인\n",
        "print(\"train_input shape:\", train_input.shape)\n",
        "print(\"train_target shape:\", train_target.shape)\n",
        "print(\"test_input shape:\", test_input.shape)\n",
        "print(\"test_target shape:\", test_target.shape)"
      ],
      "metadata": {
        "id": "4P9u7uYQlo0a"
      },
      "execution_count": null,
      "outputs": []
    },
    {
      "cell_type": "code",
      "source": [
        "import matplotlib.pyplot as plt\n",
        "\n",
        "# 첫 번째 이미지 출력\n",
        "plt.imshow(train_input[0])\n",
        "plt.axis('off')  # 축 제거\n",
        "plt.show()"
      ],
      "metadata": {
        "id": "YYOvfKOqwxxY"
      },
      "execution_count": null,
      "outputs": []
    },
    {
      "cell_type": "code",
      "source": [
        "# train 데이터를 train/val로 분리\n",
        "train_scaled, val_scaled, train_target, val_target = train_test_split(\n",
        "    train_input, train_target, test_size=0.2, random_state=42)\n",
        "\n",
        "# 분리 후 데이터 크기 확인\n",
        "print(\"train_scaled shape:\", train_scaled.shape)\n",
        "print(\"train_target shape:\", train_target.shape)\n",
        "print(\"val_scaled shape:\", val_scaled.shape)\n",
        "print(\"val_target shape:\", val_target.shape)"
      ],
      "metadata": {
        "id": "P8WlYZ6ElVcr"
      },
      "execution_count": null,
      "outputs": []
    },
    {
      "cell_type": "code",
      "source": [
        "model = keras.Sequential()\n",
        "model.add(keras.layers.Flatten(input_shape=(28, 28,3)))\n",
        "model.add(keras.layers.Dense(100, activation='relu', name='hidden'))\n",
        "model.add(keras.layers.Dense(10, activation='softmax'))"
      ],
      "metadata": {
        "id": "hIWriuLvwPxp"
      },
      "execution_count": null,
      "outputs": []
    },
    {
      "cell_type": "code",
      "execution_count": null,
      "metadata": {
        "id": "bwXDLSOWbm3L"
      },
      "outputs": [],
      "source": [
        "model.summary()"
      ]
    },
    {
      "cell_type": "code",
      "source": [
        "model.compile(optimizer='adam', loss='sparse_categorical_crossentropy', metrics='accuracy')\n",
        "\n",
        "model.fit(train_scaled, train_target, epochs=5)"
      ],
      "metadata": {
        "id": "luNsOWqRlv8D"
      },
      "execution_count": null,
      "outputs": []
    },
    {
      "cell_type": "code",
      "source": [
        "model.evaluate(val_scaled, val_target)"
      ],
      "metadata": {
        "id": "HIo3-6PkmLMr"
      },
      "execution_count": null,
      "outputs": []
    },
    {
      "cell_type": "code",
      "source": [
        "# 모델 평가\n",
        "test_loss, test_acc = model.evaluate(test_input, test_target)\n",
        "print('\\n테스트 정확도:', test_acc)"
      ],
      "metadata": {
        "id": "Ze88_WqflxKU"
      },
      "execution_count": null,
      "outputs": []
    },
    {
      "cell_type": "code",
      "source": [
        "print(model.predict_classes(test_input[:5]))\n",
        "\n",
        "fig, axs = plt.subplots(1, 5, figsize=(10,10))\n",
        "for i in range(5):\n",
        "    axs[i].imshow(test_input[i], cmap='gray_r')\n",
        "    axs[i].axis('off')\n",
        "plt.show()"
      ],
      "metadata": {
        "id": "hAFXPlke8Pm1"
      },
      "execution_count": null,
      "outputs": []
    }
  ]
}